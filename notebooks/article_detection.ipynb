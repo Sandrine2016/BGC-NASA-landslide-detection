{
 "cells": [
  {
   "cell_type": "code",
   "execution_count": 1,
   "metadata": {},
   "outputs": [],
   "source": [
    "import os\n",
    "import io\n",
    "import sys\n",
    "import json\n",
    "import pickle\n",
    "import fasttext\n",
    "import numpy as np\n",
    "import pandas as pd\n",
    "from plotnine import *\n",
    "from gensim.models import keyedvectors\n",
    "from collections import Counter\n",
    "from scipy.spatial.distance import cosine\n",
    "from sklearn.feature_extraction.text import TfidfVectorizer\n",
    "from nltk.corpus import stopwords\n",
    "from nltk.tokenize.regexp import RegexpTokenizer\n",
    "\n",
    "stops = set(stopwords.words('english'))\n",
    "tokenizer = RegexpTokenizer('\\w+|\\$[\\d\\.]+|\\S+')\n",
    "pd.options.plotting.backend = \"plotly\""
   ]
  },
  {
   "cell_type": "markdown",
   "metadata": {},
   "source": [
    "## Import"
   ]
  },
  {
   "cell_type": "markdown",
   "metadata": {},
   "source": [
    "### Commoncrawl"
   ]
  },
  {
   "cell_type": "code",
   "execution_count": 2,
   "metadata": {},
   "outputs": [],
   "source": [
    "DOWNLOAD_FOLDER = os.path.join(os.path.expanduser('~'), \"Projects\", \"news-please\", \"cc_download_articles\")\n",
    "articles = []\n",
    "folders = os.listdir(DOWNLOAD_FOLDER)\n",
    "for folder in folders:\n",
    "    if os.path.isdir(os.path.join(DOWNLOAD_FOLDER, folder)):\n",
    "        for article_f in os.listdir(os.path.join(DOWNLOAD_FOLDER, folder)):\n",
    "            with open(os.path.join(DOWNLOAD_FOLDER, folder, article_f)) as f:\n",
    "                articles.append(json.load(f))\n"
   ]
  },
  {
   "cell_type": "code",
   "execution_count": 3,
   "metadata": {},
   "outputs": [],
   "source": [
    "cc_df = pd.DataFrame(articles)\n",
    "cc_df = cc_df.rename(\n",
    "    columns={\n",
    "        \"title\": \"article_title\",\n",
    "        \"maintext\": \"article_text\",\n",
    "        \"date_publish\": \"article_publish_date\",\n",
    "        \"description\": \"article_summary\",\n",
    "        \"url\" : \"source_link\"\n",
    "    }\n",
    ")"
   ]
  },
  {
   "cell_type": "markdown",
   "metadata": {},
   "source": [
    "### Reddit and NASA"
   ]
  },
  {
   "cell_type": "code",
   "execution_count": 4,
   "metadata": {},
   "outputs": [],
   "source": [
    "DATA_PATH = os.path.join(\n",
    "    os.path.dirname(os.path.abspath(\"__file__\")), os.pardir, \"data\", \"reddit\"\n",
    ")\n",
    "\n",
    "reddit_articles_df = pd.read_csv(\n",
    "    os.path.join(DATA_PATH, \"all_valid_articles.csv\"), sep=\"\\t\"\n",
    ")\n",
    "nasa_articles_df = pd.read_csv(\n",
    "    os.path.join(DATA_PATH, \"filtered_text_pre.csv\"), index_col=0\n",
    ")\n",
    "nasa_articles_df = nasa_articles_df.rename(\n",
    "    columns={\n",
    "        \"titles\": \"article_title\",\n",
    "        \"text\": \"article_text\",\n",
    "        \"dates\": \"article_publish_date\",\n",
    "        \"summary\": \"article_summary\",\n",
    "        \"links\" : \"source_link\"\n",
    "    }\n",
    ")\n",
    "\n",
    "# tagged_articles_df = pd.read_csv()"
   ]
  },
  {
   "cell_type": "markdown",
   "metadata": {},
   "source": [
    "## Filter"
   ]
  },
  {
   "cell_type": "code",
   "execution_count": 5,
   "metadata": {},
   "outputs": [],
   "source": [
    "POSITIVE_LEXICON = [\n",
    "    \"landslide\",\n",
    "    \"landslides\",\n",
    "    \"mudslide\",\n",
    "    \"mudslides\",\n",
    "    \"slope failure\",\n",
    "    \"debris flow\",\n",
    "    \"mass wasting\",\n",
    "    \"rockfall\",\n",
    "    \"rockfalls\",\n",
    "    \"rockslide\",\n",
    "    \"rockslides\",\n",
    "    \"rock-slide\",\n",
    "    \"rock-slides\",\n",
    "    \"ground failure\",\n",
    "    \"slope erosion\",\n",
    "    \"landslip\",\n",
    "    \"landslips\",\n",
    "    \"mudflow\",\n",
    "    \"mudflows\",\n",
    "]\n",
    "\n",
    "\n",
    "NEGATIVE_LEXICON = [\n",
    "    \"politics\",\n",
    "    \"election\",\n",
    "    \"political\",\n",
    "    \"defeat\",\n",
    "    \"victory\",\n",
    "    \"campain\",\n",
    "    \"music\",\n",
    "    \"caught in a landside\"\n",
    "]\n",
    "\n",
    "\n",
    "def is_landslide_keyword_in_article(article):\n",
    "    return any([keyword in article[\"article_text\"] for keyword in POSITIVE_LEXICON])\n",
    "\n",
    "\n",
    "def is_no_not_landslide_keyword_in_article(article):\n",
    "    return not any([keyword in article[\"article_text\"] for keyword in NEGATIVE_LEXICON])\n",
    "\n",
    "\n",
    "def is_n_landslide_keyword_in_article(article, n=3):\n",
    "    return (\n",
    "        sum([article[\"text\"].lower().count(keyword) for keyword in POSITIVE_LEXICON])\n",
    "        >= n\n",
    "    )\n",
    "\n",
    "\n",
    "def filter_articles_by_lang(df, lang=\"en\"):\n",
    "    lang_model = fasttext.load_model(os.path.join(DATA_PATH, os.pardir, \"lid.176.bin\"))\n",
    "    pred, prob = lang_model.predict(\n",
    "        df[\"text\"].str.replace(\"\\n\", \" \").to_numpy().tolist()\n",
    "    )\n",
    "    df[\"lang\"] = np.array(pred).squeeze(axis=-1)\n",
    "    df[\"lang\"] = df[\"lang\"].str.replace(\"__label__\", \"\")\n",
    "\n",
    "    return df[df[\"lang\"] == lang]\n",
    "\n",
    "\n",
    "def filter_articles(df):\n",
    "    df = df.dropna(subset=[\"article_title\", \"article_text\"]).copy()\n",
    "    df[\"sub_text\"] = (\n",
    "        df[\"article_text\"].str.slice(stop=500).str.lower().str.replace(\"\\n\", \" \")\n",
    "    )\n",
    "    df = df.drop_duplicates(subset=[\"sub_text\"]).copy()\n",
    "    df[\"text\"] = df.apply(\n",
    "        lambda x: x[\"article_title\"] + \"\\n\" + x[\"article_text\"], axis=1\n",
    "    )\n",
    "    df = df[df.apply(is_landslide_keyword_in_article, axis=1)]\n",
    "    df = df[df.apply(is_no_not_landslide_keyword_in_article, axis=1)]\n",
    "    df = filter_articles_by_lang(df)\n",
    "    return df\n"
   ]
  },
  {
   "cell_type": "code",
   "execution_count": 6,
   "metadata": {},
   "outputs": [],
   "source": [
    "nasa_filtered_df = filter_articles(nasa_articles_df)\n",
    "reddit_filtered_df = filter_articles(reddit_articles_df)\n",
    "cc_filtered_df = filter_articles(cc_df)"
   ]
  },
  {
   "cell_type": "code",
   "execution_count": 7,
   "metadata": {},
   "outputs": [
    {
     "name": "stdout",
     "output_type": "stream",
     "text": [
      "(5410, 8)\n",
      "(3788, 20)\n",
      "(135896, 15)\n",
      "(3169, 11)\n",
      "(2085, 22)\n",
      "(28303, 18)\n"
     ]
    }
   ],
   "source": [
    "print(nasa_articles_df.shape)\n",
    "print(reddit_articles_df.shape)\n",
    "print(cc_df.shape)\n",
    "\n",
    "print(nasa_filtered_df.shape)\n",
    "print(reddit_filtered_df.shape)\n",
    "print(cc_filtered_df.shape)"
   ]
  },
  {
   "cell_type": "code",
   "execution_count": 8,
   "metadata": {},
   "outputs": [
    {
     "data": {
      "text/plain": [
       "[('said', 8822),\n",
       " ('landslide', 6714),\n",
       " ('road', 5420),\n",
       " ('people', 3210),\n",
       " ('area', 2957),\n",
       " ('landslides', 2830),\n",
       " ('rain', 2693),\n",
       " ('highway', 2500),\n",
       " ('heavy', 2484),\n",
       " ('also', 2303),\n",
       " ('two', 2232),\n",
       " ('water', 2164),\n",
       " ('one', 2145),\n",
       " ('debris', 1867),\n",
       " ('near', 1866),\n",
       " ('closed', 1857),\n",
       " ('due', 1779),\n",
       " ('mudslide', 1657),\n",
       " ('rains', 1648),\n",
       " ('city', 1645)]"
      ]
     },
     "execution_count": 8,
     "metadata": {},
     "output_type": "execute_result"
    }
   ],
   "source": [
    "counter = Counter(\n",
    "    [\n",
    "        token\n",
    "        for doc in [tokenizer.tokenize(doc.lower()) for doc in nasa_filtered_df[\"text\"].to_numpy()]\n",
    "        for token in doc\n",
    "        if token not in stops\n",
    "        and token.isalpha()\n",
    "    ]\n",
    ")\n",
    "counter.most_common(20)"
   ]
  },
  {
   "cell_type": "code",
   "execution_count": 9,
   "metadata": {},
   "outputs": [
    {
     "data": {
      "text/plain": [
       "[('said', 8060),\n",
       " ('people', 4993),\n",
       " ('landslide', 4883),\n",
       " ('landslides', 3199),\n",
       " ('heavy', 2282),\n",
       " ('rain', 2158),\n",
       " ('area', 2120),\n",
       " ('state', 1893),\n",
       " ('also', 1735),\n",
       " ('two', 1703),\n",
       " ('one', 1667),\n",
       " ('rains', 1628),\n",
       " ('water', 1570),\n",
       " ('road', 1569),\n",
       " ('rescue', 1546),\n",
       " ('missing', 1533),\n",
       " ('least', 1527),\n",
       " ('highway', 1408),\n",
       " ('areas', 1407),\n",
       " ('flooding', 1402)]"
      ]
     },
     "execution_count": 9,
     "metadata": {},
     "output_type": "execute_result"
    }
   ],
   "source": [
    "counter = Counter(\n",
    "    [\n",
    "        token\n",
    "        for doc in [tokenizer.tokenize(doc.lower()) for doc in reddit_filtered_df[\"text\"].to_numpy()]\n",
    "        for token in doc\n",
    "        if token not in stops\n",
    "        and token.isalpha()\n",
    "    ]\n",
    ")\n",
    "counter.most_common(20)"
   ]
  },
  {
   "cell_type": "code",
   "execution_count": 10,
   "metadata": {},
   "outputs": [
    {
     "data": {
      "text/plain": [
       "[('said', 89205),\n",
       " ('people', 58044),\n",
       " ('also', 33049),\n",
       " ('water', 26956),\n",
       " ('heavy', 26412),\n",
       " ('one', 26376),\n",
       " ('storm', 26344),\n",
       " ('rain', 25537),\n",
       " ('landslides', 24242),\n",
       " ('areas', 23649),\n",
       " ('state', 22248),\n",
       " ('flooding', 22036),\n",
       " ('two', 21687),\n",
       " ('area', 21606),\n",
       " ('landslide', 20677),\n",
       " ('floods', 19507),\n",
       " ('weather', 18516),\n",
       " ('new', 18254),\n",
       " ('could', 17887),\n",
       " ('disaster', 17801)]"
      ]
     },
     "execution_count": 10,
     "metadata": {},
     "output_type": "execute_result"
    }
   ],
   "source": [
    "counter = Counter(\n",
    "    [\n",
    "        token\n",
    "        for doc in [tokenizer.tokenize(doc.lower()) for doc in cc_filtered_df[\"text\"].to_numpy()]\n",
    "        for token in doc\n",
    "        if token not in stops\n",
    "        and token.isalpha()\n",
    "    ]\n",
    ")\n",
    "counter.most_common(20)"
   ]
  },
  {
   "cell_type": "markdown",
   "metadata": {},
   "source": [
    "## Detect"
   ]
  },
  {
   "cell_type": "code",
   "execution_count": 11,
   "metadata": {},
   "outputs": [],
   "source": [
    "import gensim.downloader as api\n",
    "from gensim.models import TfidfModel\n",
    "from gensim.corpora import Dictionary\n",
    "from gensim.matutils import corpus2csc, cossim, any2sparse"
   ]
  },
  {
   "cell_type": "code",
   "execution_count": 12,
   "metadata": {},
   "outputs": [],
   "source": [
    "def preprocess(sent):\n",
    "    tokens = tokenizer.tokenize(sent)\n",
    "    return [\n",
    "        token.lower()\n",
    "        for token in tokens\n",
    "        if len(token) > 2 and token.isalpha() and token.lower() not in stops\n",
    "    ]\n",
    "\n",
    "\n",
    "def vectorizer(text):\n",
    "    return model[dct.doc2bow(preprocess(text))]\n",
    "\n",
    "\n",
    "def get_article_similarity_score(article, vectorizer, tfidf_landslide_vector):\n",
    "    article_vector = vectorizer(article[\"text\"])\n",
    "    return cossim(tfidf_landslide_vector, article_vector)\n"
   ]
  },
  {
   "cell_type": "code",
   "execution_count": 13,
   "metadata": {},
   "outputs": [],
   "source": [
    "nasa_corpus = [preprocess(sent) for sent in nasa_filtered_df[\"text\"].to_numpy()]\n",
    "reddit_corpus = [preprocess(sent) for sent in reddit_filtered_df[\"text\"].to_numpy()]\n",
    "cc_corpus = [preprocess(sent) for sent in cc_filtered_df[\"text\"].to_numpy()]"
   ]
  },
  {
   "cell_type": "code",
   "execution_count": 232,
   "metadata": {},
   "outputs": [],
   "source": [
    "dct = Dictionary(cc_corpus)\n",
    "dct.filter_extremes(keep_n=50_000)\n",
    "\n",
    "nasa_vec_corpus = [dct.doc2bow(doc) for doc in nasa_corpus]\n",
    "reddit_vec_corpus = [dct.doc2bow(doc) for doc in reddit_corpus]\n",
    "cc_vec_corpus = [dct.doc2bow(doc) for doc in cc_corpus]"
   ]
  },
  {
   "cell_type": "code",
   "execution_count": 233,
   "metadata": {},
   "outputs": [],
   "source": [
    "model = TfidfModel(cc_vec_corpus, dictionary=dct, smartirs=\"ttb\")"
   ]
  },
  {
   "cell_type": "code",
   "execution_count": 234,
   "metadata": {},
   "outputs": [],
   "source": [
    "nasa_corpus_article_lengths = np.array([len(a) for a in nasa_vec_corpus])"
   ]
  },
  {
   "cell_type": "code",
   "execution_count": 235,
   "metadata": {},
   "outputs": [],
   "source": [
    "ncal_df = pd.DataFrame({\"len\" : nasa_corpus_article_lengths})"
   ]
  },
  {
   "cell_type": "code",
   "execution_count": 236,
   "metadata": {},
   "outputs": [
    {
     "data": {
      "text/html": [
       "<div>\n",
       "<style scoped>\n",
       "    .dataframe tbody tr th:only-of-type {\n",
       "        vertical-align: middle;\n",
       "    }\n",
       "\n",
       "    .dataframe tbody tr th {\n",
       "        vertical-align: top;\n",
       "    }\n",
       "\n",
       "    .dataframe thead th {\n",
       "        text-align: right;\n",
       "    }\n",
       "</style>\n",
       "<table border=\"1\" class=\"dataframe\">\n",
       "  <thead>\n",
       "    <tr style=\"text-align: right;\">\n",
       "      <th></th>\n",
       "      <th>len</th>\n",
       "    </tr>\n",
       "  </thead>\n",
       "  <tbody>\n",
       "    <tr>\n",
       "      <th>count</th>\n",
       "      <td>3169.000000</td>\n",
       "    </tr>\n",
       "    <tr>\n",
       "      <th>mean</th>\n",
       "      <td>105.420006</td>\n",
       "    </tr>\n",
       "    <tr>\n",
       "      <th>std</th>\n",
       "      <td>83.478196</td>\n",
       "    </tr>\n",
       "    <tr>\n",
       "      <th>min</th>\n",
       "      <td>6.000000</td>\n",
       "    </tr>\n",
       "    <tr>\n",
       "      <th>25%</th>\n",
       "      <td>55.000000</td>\n",
       "    </tr>\n",
       "    <tr>\n",
       "      <th>50%</th>\n",
       "      <td>86.000000</td>\n",
       "    </tr>\n",
       "    <tr>\n",
       "      <th>75%</th>\n",
       "      <td>131.000000</td>\n",
       "    </tr>\n",
       "    <tr>\n",
       "      <th>max</th>\n",
       "      <td>1901.000000</td>\n",
       "    </tr>\n",
       "  </tbody>\n",
       "</table>\n",
       "</div>"
      ],
      "text/plain": [
       "               len\n",
       "count  3169.000000\n",
       "mean    105.420006\n",
       "std      83.478196\n",
       "min       6.000000\n",
       "25%      55.000000\n",
       "50%      86.000000\n",
       "75%     131.000000\n",
       "max    1901.000000"
      ]
     },
     "execution_count": 236,
     "metadata": {},
     "output_type": "execute_result"
    }
   ],
   "source": [
    "ncal_df.describe()"
   ]
  },
  {
   "cell_type": "code",
   "execution_count": 237,
   "metadata": {},
   "outputs": [
    {
     "data": {
      "image/png": "[encoded data removed]",
      "text/plain": [
       "<Figure size 640x480 with 1 Axes>"
      ]
     },
     "metadata": {},
     "output_type": "display_data"
    },
    {
     "data": {
      "text/plain": [
       "<ggplot: (816861389)>"
      ]
     },
     "execution_count": 237,
     "metadata": {},
     "output_type": "execute_result"
    }
   ],
   "source": [
    "(\n",
    "    ggplot(ncal_df, aes(x=\"len\")) +\n",
    "    geom_histogram(bins=50, fill=\"darkorange\") +\n",
    "    theme_gray()\n",
    ")"
   ]
  },
  {
   "cell_type": "code",
   "execution_count": 238,
   "metadata": {},
   "outputs": [],
   "source": [
    "article_length_threshold = 100\n",
    "tc = model[[a for a in nasa_vec_corpus if len(a) < article_length_threshold]]\n",
    "\n",
    "nasa_csc_vecs = corpus2csc(tc)\n",
    "\n",
    "nasa_csc_avg_vec = nasa_csc_vecs.mean(axis=1)\n",
    "nasa_csc_avg_vec = np.array(nasa_csc_avg_vec).squeeze()\n",
    "\n",
    "nasa_tfidf_vec = any2sparse(nasa_csc_avg_vec)"
   ]
  },
  {
   "cell_type": "code",
   "execution_count": 239,
   "metadata": {},
   "outputs": [
    {
     "data": {
      "text/plain": [
       "['landslide',\n",
       " 'road',\n",
       " 'highway',\n",
       " 'mudslide',\n",
       " 'traffic',\n",
       " 'closed',\n",
       " 'slide',\n",
       " 'police',\n",
       " 'district',\n",
       " 'county',\n",
       " 'blocked',\n",
       " 'village',\n",
       " 'killed',\n",
       " 'occurred',\n",
       " 'near',\n",
       " 'landslip',\n",
       " 'lane',\n",
       " 'route',\n",
       " 'buried',\n",
       " 'area',\n",
       " 'incident',\n",
       " 'morning',\n",
       " 'debris',\n",
       " 'injured',\n",
       " 'heavy',\n",
       " 'rain',\n",
       " 'rains',\n",
       " 'due',\n",
       " 'reported',\n",
       " 'china',\n",
       " 'train',\n",
       " 'house',\n",
       " 'crews',\n",
       " 'railway',\n",
       " 'two',\n",
       " 'triggered',\n",
       " 'rockslide',\n",
       " 'cleared',\n",
       " 'houses',\n",
       " 'mud']"
      ]
     },
     "execution_count": 239,
     "metadata": {},
     "output_type": "execute_result"
    }
   ],
   "source": [
    "top_words = nasa_csc_avg_vec.argsort()[::-1][:40]\n",
    "[dct.id2token[id] for id in top_words]"
   ]
  },
  {
   "cell_type": "code",
   "execution_count": 240,
   "metadata": {},
   "outputs": [],
   "source": [
    "def preprocess(sent):\n",
    "    tokens = tokenizer.tokenize(sent)\n",
    "    return [\n",
    "        token.lower()\n",
    "        for token in tokens\n",
    "        if len(token) > 2 and token.isalpha() and token.lower() not in stops\n",
    "    ]\n",
    "\n",
    "\n",
    "def vectorizer(text, model, dct):\n",
    "    return model[dct.doc2bow(preprocess(text))]\n",
    "\n",
    "\n",
    "def get_article_similarity_score(article, tfidf_landslide_vector, model, dct):\n",
    "    article_vector = vectorizer(article[\"text\"], model, dct)\n",
    "    return cossim(tfidf_landslide_vector, article_vector)\n"
   ]
  },
  {
   "cell_type": "code",
   "execution_count": 241,
   "metadata": {},
   "outputs": [],
   "source": [
    "nasa_filtered_df[\"similarity\"] = nasa_filtered_df.apply(\n",
    "    get_article_similarity_score,\n",
    "    tfidf_landslide_vector=nasa_tfidf_vec,\n",
    "    model = model,\n",
    "    dct = dct,\n",
    "    axis=1,\n",
    ")\n",
    "\n",
    "reddit_filtered_df[\"similarity\"] = reddit_filtered_df.apply(\n",
    "    get_article_similarity_score,\n",
    "    tfidf_landslide_vector=nasa_tfidf_vec,\n",
    "    model = model,\n",
    "    dct = dct,\n",
    "    axis=1,\n",
    ")\n",
    "\n",
    "cc_filtered_df[\"similarity\"] = cc_filtered_df.apply(\n",
    "    get_article_similarity_score,\n",
    "    tfidf_landslide_vector=nasa_tfidf_vec,\n",
    "    model = model,\n",
    "    dct = dct,\n",
    "    axis=1\n",
    ")"
   ]
  },
  {
   "cell_type": "code",
   "execution_count": 242,
   "metadata": {},
   "outputs": [],
   "source": [
    "threshold = 0.08"
   ]
  },
  {
   "cell_type": "code",
   "execution_count": 243,
   "metadata": {},
   "outputs": [
    {
     "data": {
      "image/png": "[encoded data removed]",
      "text/plain": [
       "<Figure size 640x480 with 1 Axes>"
      ]
     },
     "metadata": {},
     "output_type": "display_data"
    },
    {
     "data": {
      "text/plain": [
       "<ggplot: (810834228)>"
      ]
     },
     "execution_count": 243,
     "metadata": {},
     "output_type": "execute_result"
    }
   ],
   "source": [
    "(\n",
    "    ggplot(nasa_filtered_df, aes(x=\"similarity\")) +\n",
    "    geom_histogram(bins=50, fill=\"darkorange\") +\n",
    "    geom_vline(xintercept = threshold, color=\"blue\", linetype=\"dashed\") +\n",
    "    ggtitle(\"TF-IDF Similarity Score Distribution for NASA Articles\") +\n",
    "    ylab(\"Example Count\") +\n",
    "    xlab(\"TF-IDF Similarity Score\") +\n",
    "    theme_gray()\n",
    ")"
   ]
  },
  {
   "cell_type": "code",
   "execution_count": 244,
   "metadata": {},
   "outputs": [
    {
     "data": {
      "image/png": "[encoded data removed]",
      "text/plain": [
       "<Figure size 640x480 with 1 Axes>"
      ]
     },
     "metadata": {},
     "output_type": "display_data"
    },
    {
     "data": {
      "text/plain": [
       "<ggplot: (724422060)>"
      ]
     },
     "execution_count": 244,
     "metadata": {},
     "output_type": "execute_result"
    }
   ],
   "source": [
    "(\n",
    "    ggplot(reddit_filtered_df, aes(x=\"similarity\")) +\n",
    "    geom_histogram(bins=50, fill=\"darkorange\") +\n",
    "    geom_vline(xintercept = threshold, color=\"blue\", linetype=\"dashed\") +\n",
    "    ggtitle(\"TF-IDF Similarity Score Distribution for Reddit Articles\") +\n",
    "    ylab(\"Example Count\") +\n",
    "    xlab(\"TF-IDF Similarity Score\") +\n",
    "    theme_gray()\n",
    ")"
   ]
  },
  {
   "cell_type": "code",
   "execution_count": 245,
   "metadata": {},
   "outputs": [
    {
     "data": {
      "image/png": "[encoded data removed]",
      "text/plain": [
       "<Figure size 640x480 with 1 Axes>"
      ]
     },
     "metadata": {},
     "output_type": "display_data"
    },
    {
     "data": {
      "text/plain": [
       "<ggplot: (723258694)>"
      ]
     },
     "execution_count": 245,
     "metadata": {},
     "output_type": "execute_result"
    }
   ],
   "source": [
    "(\n",
    "    ggplot(cc_filtered_df, aes(x=\"similarity\")) +\n",
    "    geom_histogram(bins=50, fill=\"darkorange\") +\n",
    "    geom_vline(xintercept = threshold, color=\"blue\", linetype=\"dashed\") +\n",
    "    ggtitle(\"TF-IDF Similarity Score Distribution for Commoncrawl Articles\") +\n",
    "    ylab(\"Example Count\") +\n",
    "    xlab(\"TF-IDF Similarity Score\") +\n",
    "    theme_gray()\n",
    ")"
   ]
  },
  {
   "cell_type": "code",
   "execution_count": 246,
   "metadata": {},
   "outputs": [
    {
     "name": "stdout",
     "output_type": "stream",
     "text": [
      "[\"'Game changer' map reveals precious UK landmarks most\"\n",
      " 'Island Slipper: Limited Edition Ala Moana Center 60th Anniversary Slipper'\n",
      " 'Island Slipper: Classy Collection'\n",
      " 'Rappers And Influencers Embrace NFTs At Tory Lanez BET After Party, Hosted By YAAAS and DaBaby, Megan Thee Stallion quarrel over Tory Lanez Retweet'\n",
      " 'Island Slipper: Imperial Collection' 'Island Slipper: Suede Collection'\n",
      " 'Kylie Hoylman of The Dalles named one of state’s best point guards'\n",
      " 'Manhoef or Bahati, Carvalho or Nemkov?'\n",
      " 'Hurricane Elsa Moving Quickly Toward Haiti, Dominican'\n",
      " 'Hurricane Elsa races toward Haiti amid fears of'\n",
      " 'Tropical Storm Fred nears Dominican'\n",
      " 'Demon emerges out of Glenwood Cañon, claims I-70 as his own'\n",
      " 'Scientists roll orbs down mountains in rockfall experiment'\n",
      " 'Reese Kaplan -- What You See in 2019 is What Yo...'\n",
      " 'Island Slipper Collaboration with Pacific Whale Foundation'\n",
      " 'Live at 5 with Steffen Rowe February 23rd 2022'\n",
      " 'Island Slipper Elegant Flower Collection'\n",
      " 'Island Slipper: Da Hawaiian Collection'\n",
      " 'MHTC sales tax proposition passes'\n",
      " \"Don't Worry About Organizing Your Books\"]\n"
     ]
    }
   ],
   "source": [
    "print(cc_filtered_df.sort_values(by=\"similarity\")[\"article_title\"].iloc[:20].to_numpy())\n"
   ]
  },
  {
   "cell_type": "code",
   "execution_count": 247,
   "metadata": {},
   "outputs": [
    {
     "name": "stdout",
     "output_type": "stream",
     "text": [
      "['Jammu-Srinagar highway closed after snow, landslides'\n",
      " 'Srinagar-Jammu highway closed again, Leh, Mughal roads still shut'\n",
      " 'Snow, landslides lead to closure of Jammu-Srinagar National Highway'\n",
      " 'One-way traffic resumes on Srinagar-Jammu highway, Leh, Mughal roads shut'\n",
      " 'Nahan-Kumarhatti road blocked on National Highway 907 following a massive landslide yesterday'\n",
      " 'Another body pulled out, death toll in landslide on J-K highway climbs to two'\n",
      " 'Srinagar-Jammu highway remains closed for 2nd day'\n",
      " 'Srinagar-Jammu highway closed for second day'\n",
      " 'Efforts on to restore Jammu-Srinagar highway, fresh snowfall predicted'\n",
      " 'Jammu-Srinagar highway closed due to landslide in Ramban, 3,000 vehicles stranded'\n",
      " 'Jammu-Srinagar National Highway closed for the third day; more than 250 authorized stranded vehicles'\n",
      " 'Srinagar-Leh highway remains closed for 2nd day'\n",
      " 'Jammu-Srinagar highway closed due to landslide in Ramban'\n",
      " 'Landslide on highway disrupts traffic for 4 hours'\n",
      " 'ROAD CLOSURES: Full list of impacted roads and routes'\n",
      " 'Massive landslide forces closure of Jammu-Srinagar NH'\n",
      " 'Jammu-Srinagar highway closed for 3rd day, heavy rains hamper road clearing ops'\n",
      " 'Srinagar-Jammu highway re-opens partially after over 24 hours'\n",
      " 'Thousands stranded as fresh landslide blocks Jammu-Srinagar highway'\n",
      " 'Highway closed due to landslide at Ramban']\n"
     ]
    }
   ],
   "source": [
    "print(cc_filtered_df.sort_values(by=\"similarity\")[\"article_title\"].iloc[-20:].to_numpy())"
   ]
  },
  {
   "cell_type": "code",
   "execution_count": 248,
   "metadata": {},
   "outputs": [
    {
     "data": {
      "text/plain": [
       "2936.087"
      ]
     },
     "execution_count": 248,
     "metadata": {},
     "output_type": "execute_result"
    }
   ],
   "source": [
    "cc_filtered_df.sort_values(by=\"similarity\")[\"text\"].iloc[\n",
    "    :1000\n",
    "].str.len().to_numpy().mean()\n"
   ]
  },
  {
   "cell_type": "code",
   "execution_count": 249,
   "metadata": {},
   "outputs": [
    {
     "data": {
      "text/plain": [
       "3069.502"
      ]
     },
     "execution_count": 249,
     "metadata": {},
     "output_type": "execute_result"
    }
   ],
   "source": [
    "cc_filtered_df.sort_values(by=\"similarity\")[\"text\"].iloc[\n",
    "    -1000:\n",
    "].str.len().to_numpy().mean()\n"
   ]
  },
  {
   "cell_type": "code",
   "execution_count": 250,
   "metadata": {},
   "outputs": [
    {
     "data": {
      "text/plain": [
       "2289.86"
      ]
     },
     "execution_count": 250,
     "metadata": {},
     "output_type": "execute_result"
    }
   ],
   "source": [
    "cc_filtered_df.sort_values(by=\"similarity\")[\"text\"].iloc[\n",
    "    :100\n",
    "].str.len().to_numpy().mean()\n"
   ]
  },
  {
   "cell_type": "code",
   "execution_count": 251,
   "metadata": {},
   "outputs": [
    {
     "data": {
      "text/plain": [
       "2269.6"
      ]
     },
     "execution_count": 251,
     "metadata": {},
     "output_type": "execute_result"
    }
   ],
   "source": [
    "cc_filtered_df.sort_values(by=\"similarity\")[\"text\"].iloc[\n",
    "    -100:\n",
    "].str.len().to_numpy().mean()\n"
   ]
  },
  {
   "cell_type": "markdown",
   "metadata": {},
   "source": [
    "#### Saving"
   ]
  },
  {
   "cell_type": "code",
   "execution_count": 253,
   "metadata": {},
   "outputs": [],
   "source": [
    "model.save(os.path.join(DATA_PATH, \"landslide_tfidf.model\"))"
   ]
  },
  {
   "cell_type": "code",
   "execution_count": 263,
   "metadata": {},
   "outputs": [],
   "source": [
    "with open(os.path.join(DATA_PATH, \"landslide_tfidf.vec\"), \"wb\") as f:\n",
    "    pickle.dump(nasa_tfidf_vec, f)"
   ]
  },
  {
   "cell_type": "code",
   "execution_count": 264,
   "metadata": {},
   "outputs": [],
   "source": [
    "dct.save_as_text(os.path.join(DATA_PATH, \"dictionary.txt\"))"
   ]
  },
  {
   "cell_type": "code",
   "execution_count": null,
   "metadata": {},
   "outputs": [],
   "source": []
  }
 ],
 "metadata": {
  "interpreter": {
   "hash": "56daeda0163a130f5fe2e22c9eef97261c67369bcefa7cc8520ef08fa9be0d5d"
  },
  "kernelspec": {
   "display_name": "Python 3.8.13 ('gensim')",
   "language": "python",
   "name": "python3"
  },
  "language_info": {
   "codemirror_mode": {
    "name": "ipython",
    "version": 3
   },
   "file_extension": ".py",
   "mimetype": "text/x-python",
   "name": "python",
   "nbconvert_exporter": "python",
   "pygments_lexer": "ipython3",
   "version": "3.8.13"
  },
  "orig_nbformat": 4
 },
 "nbformat": 4,
 "nbformat_minor": 2
}
